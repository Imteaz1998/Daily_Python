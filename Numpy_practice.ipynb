{
  "nbformat": 4,
  "nbformat_minor": 0,
  "metadata": {
    "colab": {
      "provenance": [],
      "authorship_tag": "ABX9TyOhHPGSG8kEAKRDkr1W0Ydy",
      "include_colab_link": true
    },
    "kernelspec": {
      "name": "python3",
      "display_name": "Python 3"
    },
    "language_info": {
      "name": "python"
    }
  },
  "cells": [
    {
      "cell_type": "markdown",
      "metadata": {
        "id": "view-in-github",
        "colab_type": "text"
      },
      "source": [
        "<a href=\"https://colab.research.google.com/github/Imteaz1998/Daily_Python/blob/main/Numpy_practice.ipynb\" target=\"_parent\"><img src=\"https://colab.research.google.com/assets/colab-badge.svg\" alt=\"Open In Colab\"/></a>"
      ]
    },
    {
      "cell_type": "code",
      "execution_count": null,
      "metadata": {
        "id": "t2D0bdkuMKdY"
      },
      "outputs": [],
      "source": [
        "import numpy as np"
      ]
    },
    {
      "cell_type": "code",
      "source": [
        "sample_array=np.array([[0,4,2],\n",
        "                       [3,4,6],\n",
        "                       [9,13,23]])\n",
        "print(sample_array.shape)"
      ],
      "metadata": {
        "colab": {
          "base_uri": "https://localhost:8080/"
        },
        "id": "kU8X4xK6PZCp",
        "outputId": "3a0b1870-f93f-4fde-9aaa-148c009e9521"
      },
      "execution_count": null,
      "outputs": [
        {
          "output_type": "stream",
          "name": "stdout",
          "text": [
            "(3, 3)\n"
          ]
        }
      ]
    },
    {
      "cell_type": "markdown",
      "source": [
        "**formitter**"
      ],
      "metadata": {
        "id": "zxfFFTCYTWkl"
      }
    },
    {
      "cell_type": "code",
      "source": [
        "var=\"Imteaz Ahmed\"\n",
        "arr=np.fromiter(var,dtype='U2')\n",
        "print(arr)"
      ],
      "metadata": {
        "colab": {
          "base_uri": "https://localhost:8080/"
        },
        "id": "SXqfZMl_PnC3",
        "outputId": "200f04fe-da4b-4979-e78b-179de4ca3c3f"
      },
      "execution_count": null,
      "outputs": [
        {
          "output_type": "stream",
          "name": "stdout",
          "text": [
            "['I' 'm' 't' 'e' 'a' 'z' ' ' 'A' 'h' 'm' 'e' 'd']\n"
          ]
        }
      ]
    },
    {
      "cell_type": "markdown",
      "source": [
        "arange"
      ],
      "metadata": {
        "id": "lyFLN2BkWeuW"
      }
    },
    {
      "cell_type": "code",
      "source": [
        "arr=np.arange(1,20,2)\n",
        "print(arr)\n"
      ],
      "metadata": {
        "colab": {
          "base_uri": "https://localhost:8080/"
        },
        "id": "dNP2ziA7TytS",
        "outputId": "4ba6daea-1488-4faa-f41c-e452651b5619"
      },
      "execution_count": null,
      "outputs": [
        {
          "output_type": "stream",
          "name": "stdout",
          "text": [
            "[ 1  3  5  7  9 11 13 15 17 19]\n"
          ]
        }
      ]
    },
    {
      "cell_type": "markdown",
      "source": [
        "Random array myth"
      ],
      "metadata": {
        "id": "PE7bC6e4YkUu"
      }
    },
    {
      "cell_type": "code",
      "source": [
        "random_array=np.random.rand(2,3)\n",
        "normal_array=np.random.randn(2,2)\n",
        "randint_array=np.random.randint(1,10,size=(2,3))\n",
        "print(random_array)\n",
        "print(normal_array)\n",
        "print(randint_array)\n"
      ],
      "metadata": {
        "colab": {
          "base_uri": "https://localhost:8080/"
        },
        "id": "wQ3ksMAyWlOe",
        "outputId": "13115af8-8bca-444b-a45c-d7d9792b3738"
      },
      "execution_count": null,
      "outputs": [
        {
          "output_type": "stream",
          "name": "stdout",
          "text": [
            "[[0.04328833 0.61650198 0.96176064]\n",
            " [0.97954955 0.06752319 0.68927186]]\n",
            "[[-0.4243813   1.58252029]\n",
            " [ 1.24404133  2.84267268]]\n",
            "[[4 4 7]\n",
            " [8 9 7]]\n"
          ]
        }
      ]
    },
    {
      "cell_type": "markdown",
      "source": [
        "slicing practice\n"
      ],
      "metadata": {
        "id": "GkVdd4dDcHUx"
      }
    },
    {
      "cell_type": "code",
      "source": [
        "arr=np.array([[1,2,3],[4,5,6],[7,8,9]])\n",
        "print(arr[1:3,1:3])"
      ],
      "metadata": {
        "colab": {
          "base_uri": "https://localhost:8080/"
        },
        "id": "HQiZNwkkZFZf",
        "outputId": "3d4fa652-e2a7-4333-891f-0b68b09ee9d4"
      },
      "execution_count": null,
      "outputs": [
        {
          "output_type": "stream",
          "name": "stdout",
          "text": [
            "[[5 6]\n",
            " [8 9]]\n"
          ]
        }
      ]
    },
    {
      "cell_type": "markdown",
      "source": [
        "Boolean array"
      ],
      "metadata": {
        "id": "O60ytcv4cvOf"
      }
    },
    {
      "cell_type": "code",
      "source": [
        "arr=np.array([10,20,30,40,50])\n",
        "print(arr[(arr>10) & (arr<40)])"
      ],
      "metadata": {
        "colab": {
          "base_uri": "https://localhost:8080/"
        },
        "id": "sTpnU9NlcfF6",
        "outputId": "39177e71-d1f8-4a52-8006-f722c0b39d77"
      },
      "execution_count": null,
      "outputs": [
        {
          "output_type": "stream",
          "name": "stdout",
          "text": [
            "[20 30]\n"
          ]
        }
      ]
    },
    {
      "cell_type": "markdown",
      "source": [
        "reshaping"
      ],
      "metadata": {
        "id": "5m8pQZAUoceb"
      }
    },
    {
      "cell_type": "code",
      "source": [
        "arr=np.array([1,2,3,4,5,6,7,8])\n",
        "print(arr.reshape(2,4))"
      ],
      "metadata": {
        "colab": {
          "base_uri": "https://localhost:8080/"
        },
        "id": "puFudz_4dD0A",
        "outputId": "62393c4a-60ad-487d-d3ad-206b031950fd"
      },
      "execution_count": null,
      "outputs": [
        {
          "output_type": "stream",
          "name": "stdout",
          "text": [
            "[[1 2 3 4]\n",
            " [5 6 7 8]]\n"
          ]
        }
      ]
    },
    {
      "cell_type": "code",
      "source": [
        "array=np.array([[1,2,3],\n",
        "                [2,3,4],\n",
        "                [4,5,6]])\n",
        "print(array.reshape(-1))"
      ],
      "metadata": {
        "colab": {
          "base_uri": "https://localhost:8080/"
        },
        "id": "1MBr4tSJomRs",
        "outputId": "37e3a87c-0dba-48d3-e6f7-e7660a580f3a"
      },
      "execution_count": null,
      "outputs": [
        {
          "output_type": "stream",
          "name": "stdout",
          "text": [
            "[1 2 3 2 3 4 4 5 6]\n"
          ]
        }
      ]
    },
    {
      "cell_type": "code",
      "source": [],
      "metadata": {
        "id": "UJ5yVf6Dpk6e"
      },
      "execution_count": null,
      "outputs": []
    }
  ]
}