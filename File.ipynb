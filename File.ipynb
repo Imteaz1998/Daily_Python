{
 "cells": [
  {
   "cell_type": "code",
   "execution_count": 2,
   "metadata": {},
   "outputs": [
    {
     "name": "stdout",
     "output_type": "stream",
     "text": [
      "Hello mello\n",
      "How are you?\n",
      "I am good\n"
     ]
    }
   ],
   "source": [
    "with open(r'D:/python practice/practice.txt', 'r') as file:\n",
    "    content = file.read()\n",
    "    print(content)"
   ]
  },
  {
   "cell_type": "code",
   "execution_count": 4,
   "metadata": {},
   "outputs": [
    {
     "name": "stdout",
     "output_type": "stream",
     "text": [
      "Hello mello\n",
      "How are you?\n",
      "I am good\n"
     ]
    }
   ],
   "source": [
    "with open(r'D:/python practice/practice.txt', 'r') as file:\n",
    "    for line in file:\n",
    "        print(line.strip())\n",
    " "
   ]
  },
  {
   "cell_type": "code",
   "execution_count": 6,
   "metadata": {},
   "outputs": [],
   "source": [
    "with open(r'D:/python practice/practice.txt', 'w') as file:\n",
    "    file.write(\"Hello World\\n\")\n",
    "    file.write(\"Nothing to worry\")"
   ]
  },
  {
   "cell_type": "code",
   "execution_count": 7,
   "metadata": {},
   "outputs": [],
   "source": [
    "with open(r'D:/python practice/practice.txt', 'a') as file:\n",
    "    file.write(\"Append operation taking place\\n\")\n",
    "    file.write(\"Nothing to worry\")"
   ]
  }
 ],
 "metadata": {
  "kernelspec": {
   "display_name": "Python 3",
   "language": "python",
   "name": "python3"
  },
  "language_info": {
   "codemirror_mode": {
    "name": "ipython",
    "version": 3
   },
   "file_extension": ".py",
   "mimetype": "text/x-python",
   "name": "python",
   "nbconvert_exporter": "python",
   "pygments_lexer": "ipython3",
   "version": "3.13.0"
  }
 },
 "nbformat": 4,
 "nbformat_minor": 2
}
